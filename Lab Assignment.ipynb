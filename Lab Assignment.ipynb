{
  "nbformat": 4,
  "nbformat_minor": 0,
  "metadata": {
    "colab": {
      "provenance": [],
      "authorship_tag": "ABX9TyNvzp0/LwtfRrlS8YA7axcT",
      "include_colab_link": true
    },
    "kernelspec": {
      "name": "python3",
      "display_name": "Python 3"
    },
    "language_info": {
      "name": "python"
    }
  },
  "cells": [
    {
      "cell_type": "markdown",
      "metadata": {
        "id": "view-in-github",
        "colab_type": "text"
      },
      "source": [
        "<a href=\"https://colab.research.google.com/github/AroraAnshul301/Lab-Evaluation/blob/main/Lab%20Assignment.ipynb\" target=\"_parent\"><img src=\"https://colab.research.google.com/assets/colab-badge.svg\" alt=\"Open In Colab\"/></a>"
      ]
    },
    {
      "cell_type": "code",
      "execution_count": 6,
      "metadata": {
        "colab": {
          "base_uri": "https://localhost:8080/"
        },
        "id": "cJyvtTQXhO_9",
        "outputId": "bd83ba4a-ecbb-42af-f64a-83781ec7344d"
      },
      "outputs": [
        {
          "output_type": "stream",
          "name": "stdout",
          "text": [
            "               Model  R-Squared  Adjusted R-Squared       MSE      RMSE  \\\n",
            "0  Linear Regression   0.251080            0.211524  0.003392  0.058240   \n",
            "1      Decision Tree  -0.711252           -0.801636  0.007750  0.088036   \n",
            "2      Random Forest   0.200957            0.158754  0.003619  0.060157   \n",
            "3  Gradient Boosting   0.191116            0.148393  0.003663  0.060527   \n",
            "4            XGBoost   0.089003            0.040887  0.004126  0.064234   \n",
            "5                SVR   0.165719            0.121655  0.003779  0.061470   \n",
            "\n",
            "        MAE      MAPE  \n",
            "0  0.048614  5.900465  \n",
            "1  0.073130  8.845205  \n",
            "2  0.050350  6.108663  \n",
            "3  0.050126  6.088897  \n",
            "4  0.054234  6.577283  \n",
            "5  0.051831  6.248270  \n"
          ]
        }
      ],
      "source": [
        "import pandas as pd\n",
        "import numpy as np\n",
        "from sklearn.model_selection import train_test_split\n",
        "from sklearn.linear_model import LinearRegression\n",
        "from sklearn.tree import DecisionTreeRegressor\n",
        "from sklearn.ensemble import RandomForestRegressor, GradientBoostingRegressor\n",
        "from sklearn.svm import SVR\n",
        "from sklearn.metrics import r2_score, mean_squared_error, mean_absolute_error\n",
        "from math import sqrt\n",
        "\n",
        "from xgboost import XGBRegressor\n",
        "\n",
        "df = pd.read_csv('/content/Fuel_cell_performance_data-Full.csv')\n",
        "\n",
        "X = df.drop(columns=['Target1'])\n",
        "y = df['Target1']\n",
        "\n",
        "X_train, X_test, y_train, y_test = train_test_split(X, y, test_size=0.3, random_state=42)\n",
        "\n",
        "models = {\n",
        "    'Linear Regression': LinearRegression(),\n",
        "    'Decision Tree': DecisionTreeRegressor(random_state=42),\n",
        "    'Random Forest': RandomForestRegressor(random_state=42, n_estimators=100),\n",
        "    'Gradient Boosting': GradientBoostingRegressor(random_state=42),\n",
        "    'XGBoost': XGBRegressor(random_state=42),\n",
        "    'SVR': SVR(kernel='rbf')\n",
        "}\n",
        "\n",
        "def adjusted_r2(r2, n, p):\n",
        "    return 1 - ((1 - r2) * (n - 1) / (n - p - 1))\n",
        "\n",
        "results = []\n",
        "\n",
        "for model_name, model in models.items():\n",
        "    model.fit(X_train, y_train)\n",
        "\n",
        "    y_pred = model.predict(X_test)\n",
        "\n",
        "    r2 = r2_score(y_test, y_pred)\n",
        "    adj_r2 = adjusted_r2(r2, X_test.shape[0], X_test.shape[1])\n",
        "    mse = mean_squared_error(y_test, y_pred)\n",
        "    rmse = sqrt(mse)\n",
        "    mae = mean_absolute_error(y_test, y_pred)\n",
        "    mape = np.mean(np.abs((y_test - y_pred) / y_test)) * 100\n",
        "\n",
        "    results.append({\n",
        "        'Model': model_name,\n",
        "        'R-Squared': r2,\n",
        "        'Adjusted R-Squared': adj_r2,\n",
        "        'MSE': mse,\n",
        "        'RMSE': rmse,\n",
        "        'MAE': mae,\n",
        "        'MAPE': mape\n",
        "    })\n",
        "\n",
        "results_df = pd.DataFrame(results)\n",
        "\n",
        "print(results_df)\n",
        "\n",
        "results_df.to_csv('detailed_model_comparison.csv', index=False)\n"
      ]
    }
  ]
}